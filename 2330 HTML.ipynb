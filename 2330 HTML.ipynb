{
 "cells": [
  {
   "cell_type": "code",
   "execution_count": 18,
   "id": "db50089e",
   "metadata": {},
   "outputs": [
    {
     "data": {
      "text/plain": [
       "[<td class=\"table-first-child\">114/08/15</td>,\n",
       " <td align=\"right\">1,175.00   </td>,\n",
       " <td align=\"right\">1,185.00   </td>,\n",
       " <td align=\"right\">1,170.00   </td>,\n",
       " <td align=\"right\">1,180.00   </td>,\n",
       " <td align=\"right\">22,900   </td>]"
      ]
     },
     "execution_count": 18,
     "metadata": {},
     "output_type": "execute_result"
    }
   ],
   "source": [
    "import requests \n",
    "res = requests.get(\"https://stock.wearn.com/cdata.asp?kind=2330\")\n",
    "from bs4 import BeautifulSoup\n",
    "res.encoding = \"big5\" #解析中文\n",
    "html = BeautifulSoup(res.text,\"html.parser\")\n",
    "\n",
    "# table>td>tr\n",
    "tables = html.findAll(\"table\")[0]\n",
    "trs = tables.findAll(\"tr\")[2]\n",
    "tds = trs.findAll(\"td\")\n",
    "tds"
   ]
  },
  {
   "cell_type": "code",
   "execution_count": 19,
   "id": "6318fd1d",
   "metadata": {},
   "outputs": [
    {
     "name": "stdout",
     "output_type": "stream",
     "text": [
      "1175.0\n",
      "1185.0\n",
      "1170.0\n",
      "1180.0\n",
      "22900.0\n"
     ]
    }
   ],
   "source": [
    "price_open = float(tds[1].text.replace(\"\\xa0\",\"\").replace(\",\",\"\"))\n",
    "print(price_open)\n",
    "price_high = float(tds[2].text.replace(\"\\xa0\",\"\").replace(\",\",\"\"))\n",
    "print(price_high)\n",
    "price_low = float(tds[3].text.replace(\"\\xa0\",\"\").replace(\",\",\"\"))\n",
    "print(price_low) \n",
    "price_close = float(tds[4].text.replace(\"\\xa0\",\"\").replace(\",\",\"\"))\n",
    "print(price_close)\n",
    "volume = float(tds[5].text.replace(\"\\xa0\",\"\").replace(\",\",\"\"))\n",
    "print(volume) "
   ]
  },
  {
   "cell_type": "code",
   "execution_count": 21,
   "id": "580414f9",
   "metadata": {},
   "outputs": [],
   "source": [
    "import xlwings as xw\n",
    "import time\n",
    "wb = xw.Book()\n",
    "sheet = xw.sheets[\"工作表1\"]\n",
    "\n",
    "sheet.range(\"A1\").value = \"日期\"\n",
    "sheet.range(\"B1\").value = \"開盤價\"\n",
    "sheet.range(\"C1\").value = \"最高價\"\n",
    "sheet.range(\"D1\").value = \"最低價\"\n",
    "sheet.range(\"E1\").value = \"收盤價\"\n",
    "sheet.range(\"F1\").value = \"交易量\"\n",
    "\n",
    "\n",
    "\n",
    "last_row = sheet.range(\"A\" + str(sheet.cells.last_cell.row)).end(\"up\").row\n",
    "sheet.range(f\"A{last_row+1}\").value = time.strftime(\"%Y/%m/%d\")\n",
    "sheet.range(f\"B{last_row+1}\").value = price_open\n",
    "sheet.range(f\"C{last_row+1}\").value = price_high\n",
    "sheet.range(f\"D{last_row+1}\").value = price_low\n",
    "sheet.range(f\"E{last_row+1}\").value = price_close\n",
    "sheet.range(f\"F{last_row+1}\").value = volume"
   ]
  }
 ],
 "metadata": {
  "kernelspec": {
   "display_name": "Python 3 (ipykernel)",
   "language": "python",
   "name": "python3"
  },
  "language_info": {
   "codemirror_mode": {
    "name": "ipython",
    "version": 3
   },
   "file_extension": ".py",
   "mimetype": "text/x-python",
   "name": "python",
   "nbconvert_exporter": "python",
   "pygments_lexer": "ipython3",
   "version": "3.11.5"
  }
 },
 "nbformat": 4,
 "nbformat_minor": 5
}
